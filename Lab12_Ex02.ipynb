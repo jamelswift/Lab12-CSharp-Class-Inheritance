{
 "cells": [
  {
   "cell_type": "markdown",
   "metadata": {},
   "source": [
    "# Lab 12 Class Inheritance"
   ]
  },
  {
   "cell_type": "markdown",
   "metadata": {},
   "source": [
    "## Exercise 2 การใช้งาน method และ field ของ base และ  derived class\n",
    "\n"
   ]
  },
  {
   "cell_type": "markdown",
   "metadata": {},
   "source": [
    "1. สร้าง console application project\n",
    "\n",
    "> ```cmd\n",
    "> dotnet new console --name Lab12_Ex02\n",
    "> ```"
   ]
  },
  {
   "cell_type": "markdown",
   "metadata": {},
   "source": [
    "2.เปลี่ยน code ให้เป็นดังต่อไปนี้\n",
    "\n",
    "```csharp\n",
    "var dc = new DerivedClass();\n",
    "dc.Method1(dc.Field1);  // call with method and field of base class\n",
    "dc.Method2(dc.Field1);  // call with method of derived class and field of base class\n",
    "dc.Method1(dc.Field2);  // call with method of base class and field of derived class\n",
    "dc.Method2(dc.Field2);  // call with method and field of derived class\n",
    "\n",
    "class BaseClass\n",
    "{\n",
    "    public string Field1 = \"Field 1 in BaseClass\";\n",
    "    public void Method1(string value)\n",
    "    {\n",
    "        System.Console.WriteLine($\"Method1() in BaseClass, string input = {value} \");\n",
    "    }\n",
    "}\n",
    "class DerivedClass: BaseClass\n",
    "{\n",
    "    public string Field2 = \"Field 2 in DerivedClass\";\n",
    "    public void Method2(string value)\n",
    "    {\n",
    "        System.Console.WriteLine($\"Method2() in DerivedClass, string input = {value} \");\n",
    "    }\n",
    "\n",
    "}\n",
    "```"
   ]
  },
  {
   "cell_type": "markdown",
   "metadata": {},
   "source": [
    "3.Build project โดยการใช้คำสั่ง\n",
    "\n",
    "```cmd\n",
    "dotnet build  Lab12_Ex02\n",
    "```\n",
    "\n",
    "ถ้ามีที่ผิดพลาดในโปรแกรม ให้แก้ไขให้ถูกต้อง\n",
    "\n"
   ]
  },
  {
   "cell_type": "markdown",
   "metadata": {},
   "source": [
    "4.บันทึกผลที่ได้จากการรันคำสั่งในข้อ 3\n",
    "\n"
   ]
  },
  {
   "attachments": {
    "image.png": {
     "image/png": "[encoded data removed]"
    }
   },
   "cell_type": "markdown",
   "metadata": {},
   "source": [
    "![image.png](attachment:image.png)"
   ]
  },
  {
   "cell_type": "markdown",
   "metadata": {},
   "source": [
    "5.Run project โดยการใช้คำสั่ง\n",
    "\n",
    "```cmd\n",
    "dotnet run --project Lab12_Ex02\n",
    "```\n",
    "\n"
   ]
  },
  {
   "cell_type": "markdown",
   "metadata": {},
   "source": [
    "6.บันทึกผลที่ได้จากการรันคำสั่งในข้อ 5\n",
    "\n"
   ]
  },
  {
   "attachments": {
    "image.png": {
     "image/png": "[encoded data removed]"
    }
   },
   "cell_type": "markdown",
   "metadata": {},
   "source": [
    "![image.png](attachment:image.png)"
   ]
  },
  {
   "cell_type": "markdown",
   "metadata": {},
   "source": [
    "7.อธิบายสิ่งที่พบในการทดลอง"
   ]
  },
  {
   "cell_type": "markdown",
   "metadata": {},
   "source": [
    "-Inheritance ทำให้ DerivedClass ได้รับคุณสมบัติจาก BaseClass โดยไม่ต้องเขียนซ้ำ\n",
    "\n",
    "-คลาสลูกสามารถเพิ่ม Method และ Field ของตัวเองได้\n",
    "\n",
    "-Method และ Field จากคลาสแม่สามารถใช้ในคลาสลูกได้ปกติ\n",
    "\n",
    "-สามารถส่งค่า Field ของทั้งสองคลาสเข้า Method ของทั้งสองคลาสได้โดยไม่มีปัญหา"
   ]
  },
  {
   "cell_type": "markdown",
   "metadata": {},
   "source": []
  },
  {
   "cell_type": "markdown",
   "metadata": {},
   "source": [
    "## คำถาม"
   ]
  },
  {
   "cell_type": "markdown",
   "metadata": {},
   "source": [
    "1. ให้เขียน mermaid diagram ของ code ในข้อ 2"
   ]
  },
  {
   "cell_type": "code",
   "execution_count": null,
   "metadata": {
    "dotnet_interactive": {
     "language": "mermaid"
    },
    "polyglot_notebook": {
     "kernelName": "mermaid"
    }
   },
   "outputs": [
    {
     "data": {
      "text/html": [
       "<div class=\"mermaidMarkdownContainer\" style=\"background-color:white\">\r\n",
       "<link rel=\"stylesheet\" href=\"https://cdnjs.cloudflare.com/ajax/libs/font-awesome/6.2.0/css/all.min.css\">\r\n",
       "<div id=\"2d663431dcff480f989a3e413b2137e3\"></div>\r\n",
       "<script type=\"module\">\r\n",
       "\r\n",
       "            import mermaid from 'https://cdn.jsdelivr.net/npm/mermaid@10.6.1/dist/mermaid.esm.min.mjs';\r\n",
       "            let renderTarget = document.getElementById('2d663431dcff480f989a3e413b2137e3');\r\n",
       "            try {\r\n",
       "                const {svg, bindFunctions} = await mermaid.mermaidAPI.render( \r\n",
       "                    'mermaid_2d663431dcff480f989a3e413b2137e3', \r\n",
       "                    `classDiagram\r\n",
       "    class BaseClass {\r\n",
       "        +string Field1\r\n",
       "        +void Method1(string value)\r\n",
       "    }\r\n",
       "\r\n",
       "    class DerivedClass {\r\n",
       "        +string Field2\r\n",
       "        +void Method2(string value)\r\n",
       "    }\r\n",
       "\r\n",
       "    DerivedClass --|> BaseClass : Inherits\r\n",
       "\r\n",
       "    BaseClass --> DerivedClass : Access Field1 & Method1\r\n",
       "    DerivedClass --> BaseClass : Access Field2 & Method2\r\n",
       "`);\r\n",
       "                renderTarget.innerHTML = svg;\r\n",
       "                bindFunctions?.(renderTarget);\r\n",
       "            }\r\n",
       "            catch (error) {\r\n",
       "                console.log(error);\r\n",
       "            }\r\n",
       "</script>\r\n",
       "</div>\r\n"
      ]
     },
     "metadata": {},
     "output_type": "display_data"
    }
   ],
   "source": [
    "classDiagram\n",
    "    class BaseClass {\n",
    "        +string Field1\n",
    "        +void Method1(string value)\n",
    "    }\n",
    "\n",
    "    class DerivedClass {\n",
    "        +string Field2\n",
    "        +void Method2(string value)\n",
    "    }\n",
    "\n",
    "    DerivedClass --|> BaseClass : Inherits\n",
    "\n",
    "    BaseClass --> DerivedClass : Access Field1 & Method1\n",
    "    DerivedClass --> BaseClass : Access Field2 & Method2\n"
   ]
  }
 ],
 "metadata": {
  "kernelspec": {
   "display_name": ".NET (C#)",
   "language": "C#",
   "name": ".net-csharp"
  },
  "polyglot_notebook": {
   "kernelInfo": {
    "defaultKernelName": "csharp",
    "items": [
     {
      "aliases": [],
      "languageName": "csharp",
      "name": "csharp"
     }
    ]
   }
  }
 },
 "nbformat": 4,
 "nbformat_minor": 2
}
